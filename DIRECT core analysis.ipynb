{
 "cells": [
  {
   "cell_type": "markdown",
   "metadata": {},
   "source": [
    "# DIRECT core analysis\n",
    "**nick budak // @thatbudakguy**\n",
    "\n",
    "The DIRECT `dphon` tool works by comparing two utf-8 encoded plaintext files (hereafter referred to as `a` and `b` in the general case) and outputting a list of matching sequences, based on a phonological dictionary that corresponds to the Schuessler 2007 reconstruction of Old Chinese[^1].\n",
    "\n",
    "There are four main steps to this process, each of which is currently implemented as a method on the `Comparator` object exported in `dphon.lib`:\n",
    "\n",
    "|step|name|method|input|output|\n",
    "|---|---|---|---|---|\n",
    "|1|shingle|`Comparator.get_text_ngrams`|`a` or `b`, as string|list of ngrams in `a` or `b`|\n",
    "|2|match|`Comparator.get_initial_matches`|lists of ngrams from `a` and `b`|list of `Match` objects|\n",
    "|3|reduce|`Comparator.reduce_matches`|list of `Match` objects|list of `Match` objects|\n",
    "|4|group|`Comparator.group_matches`|list of `Match` objects|dict with `Match` keys and `Match` values|\n",
    "\n",
    "After this process is finished we will have an organized list of matches between `a` and `b`, ordered by their occurrence in `a`. The `Match` object itself contains no character data - only the positions at which it occurs in the source text. Thus, any presentation to the user will involve calling a final method `Comparator.resolve_groups` to apply the `Match` objects to `a` and `b` and receive strings to format and print to the console.\n",
    "\n",
    "[^1]: Schuessler, Axel (2007), ABC Etymological Dictionary of Old Chinese, Honolulu: University of Hawaii Press, ISBN 978-0-8248-2975-9."
   ]
  },
  {
   "cell_type": "markdown",
   "execution_count": null,
   "metadata": {},
   "outputs": [],
   "source": [
    "## shingling\n",
    "the first step is to break our two texts into a series of overlapping n-grams, a process called shingling. while other language models may do this at the level of words, chinese is not a whitespace-delimited language, and so DIRECT does it at the level of individual characters. the default value for `n` is 3, so we will be shingling our two inputs texts into lists of overlapping trigrams.\n"
   ]
  },
  {
   "cell_type": "code",
   "execution_count": 2,
   "metadata": {},
   "outputs": [
    {
     "name": "stdout",
     "output_type": "stream",
     "text": "n-grams in a:\n['112', '12D', '2D3', 'D32']\n\n\nn-grams in b:\n['112', '12D', '2DD', 'DD1']\n"
    }
   ],
   "source": [
    "from dphon.lib import Comparator\n",
    "\n",
    "a = 'AABDCB'\n",
    "b = 'AABDDA'\n",
    "\n",
    "ab_dict = {\n",
    "    'A': [None, None, '1'],\n",
    "    'B': [None, None, '2'],\n",
    "    'C': [None, None, '3'],\n",
    "}\n",
    "\n",
    "c = Comparator(phondict=ab_dict)\n",
    "\n",
    "a_grams = c.get_text_ngrams(a)\n",
    "b_grams = c.get_text_ngrams(b)\n",
    "\n",
    "print('n-grams in a:')\n",
    "print([g['text'] for g in a_grams])\n",
    "print('\\n')\n",
    "print('n-grams in b:')\n",
    "print([g['text'] for g in b_grams])"
   ]
  },
  {
   "cell_type": "markdown",
   "execution_count": null,
   "metadata": {},
   "outputs": [],
   "source": [
    "## matching\n",
    "to get our initial set of matches, we need to compare each n-gram from `a` against every n-gram in `b` and record when the two are identical. this ensures that matches that might involve the same content but occur in different places are preserved, since they would otherwise all be grouped together. this step will create a list of `Match` objects, which store the start and end positions in the original versions of each of the two texts. we can get a printable representation of a `Match` by calling `resolve()` and passing in the two texts whose positions are stored in the `Match`."
   ]
  },
  {
   "cell_type": "code",
   "execution_count": 3,
   "metadata": {},
   "outputs": [
    {
     "name": "stdout",
     "output_type": "stream",
     "text": "initial matches:\n----------------\nAAB :: AAB\tA (0 - 2) :: B (0 - 2)\nABD :: ABD\tA (1 - 3) :: B (1 - 3)\n"
    }
   ],
   "source": [
    "matches = c.get_initial_matches(a_grams, b_grams)\n",
    "\n",
    "print('initial matches:')\n",
    "print('----------------')\n",
    "for m in matches:\n",
    "    print('%s\\t%s' % (m.resolve(a, b), m))"
   ]
  },
  {
   "cell_type": "markdown",
   "execution_count": null,
   "metadata": {},
   "outputs": [],
   "source": [
    "## reducing\n",
    "In order to capture the 4-character match at the start of `a` and `b` in its entirety, we'll need to iteratively build up these trigrams into the longest possible matching sequences. This step illustrates a property of text n-grams: any single sequence of length n can be decomposed into two overlapping sequences of length n-1. Thus we can decompose any arbitrarily long match into some number of overlapping trigrams, and conversely we can \"rebuild\" a match of any length by combining the trigrams we got in step 1."
   ]
  },
  {
   "cell_type": "code",
   "execution_count": 4,
   "metadata": {},
   "outputs": [
    {
     "name": "stdout",
     "output_type": "stream",
     "text": "reduced matches:\n----------------\nAABD :: AABD\tA (0 - 3) :: B (0 - 3)\n"
    }
   ],
   "source": [
    "matches = c.reduce_matches(matches)\n",
    "\n",
    "print('reduced matches:')\n",
    "print('----------------')\n",
    "for m in matches:\n",
    "    print('%s\\t%s' % (m.resolve(a, b), m))"
   ]
  },
  {
   "cell_type": "markdown",
   "execution_count": null,
   "metadata": {},
   "outputs": [],
   "source": [
    "## grouping\n",
    "\n",
    "we now have a list of matching sequences between `a` and `b` optimized for length, but our output could be more succinct. if a sequence in `a` matches multiple locations in `b`, we end up repeating a lot of redundant information. grouping lets us collect all the sequences in `b` matching our sequence in `a` under a single heading, making the output easier to browse and interpret.\n"
   ]
  },
  {
   "cell_type": "code",
   "execution_count": 5,
   "metadata": {},
   "outputs": [
    {
     "name": "stdout",
     "output_type": "stream",
     "text": "grouped matches:\n----------------\nAABD: A (0-3)\nAABD: B (0-3)\n\n\n\nresolved groups:\n----------------\nAABD (a: 1)\nAABD (b: 1)\n\n\n"
    }
   ],
   "source": [
    "groups = c.group_matches(matches)\n",
    "\n",
    "print('grouped matches:')\n",
    "print('----------------')\n",
    "for ga, gbs in groups.items():\n",
    "    print('%s: A (%d-%d)' % (a[ga.start:ga.stop+1], ga.start, ga.stop))\n",
    "    for gb in gbs:\n",
    "        print('%s: B (%d-%d)\\n' % (b[gb.start:gb.stop+1], gb.start, gb.stop))\n",
    "    print('\\n')\n",
    "\n",
    "print('resolved groups:')\n",
    "print('----------------')\n",
    "print(c.resolve_groups(a, b, groups))"
   ]
  },
  {
   "cell_type": "code",
   "execution_count": null,
   "metadata": {},
   "outputs": [],
   "source": []
  }
 ],
 "metadata": {
  "kernelspec": {
   "display_name": "Python 3",
   "language": "python",
   "name": "python3"
  },
  "language_info": {
   "codemirror_mode": {
    "name": "ipython",
    "version": 3
   },
   "file_extension": ".py",
   "mimetype": "text/x-python",
   "name": "python",
   "nbconvert_exporter": "python",
   "pygments_lexer": "ipython3",
   "version": "3.7.5"
  }
 },
 "nbformat": 4,
 "nbformat_minor": 2
}